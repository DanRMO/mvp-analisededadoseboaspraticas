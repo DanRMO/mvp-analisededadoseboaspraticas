{
  "nbformat": 4,
  "nbformat_minor": 0,
  "metadata": {
    "colab": {
      "provenance": [],
      "authorship_tag": "ABX9TyO5NBUT57AXhXPcc0Uh2BBW",
      "include_colab_link": true
    },
    "kernelspec": {
      "name": "python3",
      "display_name": "Python 3"
    },
    "language_info": {
      "name": "python"
    }
  },
  "cells": [
    {
      "cell_type": "markdown",
      "metadata": {
        "id": "view-in-github",
        "colab_type": "text"
      },
      "source": [
        "<a href=\"https://colab.research.google.com/github/DanRMO/mvp-analisededadoseboaspraticas/blob/main/MVP.ipynb\" target=\"_parent\"><img src=\"https://colab.research.google.com/assets/colab-badge.svg\" alt=\"Open In Colab\"/></a>"
      ]
    },
    {
      "cell_type": "markdown",
      "source": [
        "# **MVP de Análise de Dados e Boas Práticas**\n",
        "\n",
        "# **Aluno: Dan Rodrigues de Morais de Oliveira**"
      ],
      "metadata": {
        "id": "1QxlmkK79vOd"
      }
    },
    {
      "cell_type": "markdown",
      "source": [
        "# **1. Definição do Problema**\n",
        "\n",
        "O *dataset* utilizado neste projeto será o ***Student Classification Dataset***, disponibilizado no site Kaggle pelo *link* a seguir: https://www.kaggle.com/datasets/jacksondivakarr/student-classification-dataset/data\n",
        "A base de dados contém informações referentes a alunos de High School.\n",
        "\n",
        "O objetivo da escolha do *dataset* é ter uma visão dos alunos e tentar extrair *insights* da base de dados de alunos, podendo ser implementado melhorias no sistema educacional visando uma melhoria da qualidade do ensino. Trata-se de um aprendizado supervisionado.\n",
        "\n",
        "\n",
        "# Atributos do dataset:\n",
        "\n",
        "*   ***Student_Age:*** idade do aluno\n",
        "*   ***Sex:*** gênero do aluno (male/female)\n",
        "*   ***High_School_Type:*** tipo da escola (privada, estado, outro)\n",
        "*   ***Scholarship:*** bolsa de estudos\n",
        "*   ***Additional_Work:*** trabalhos extras\n",
        "*   ***Sports_activity:*** atividade física\n",
        "*   ***Transportation:*** forma de transporte\n",
        "*   ***Weekly_Study_Hours:*** horas de estudos semanais\n",
        "*   ***Attendance:*** frequência as aulas\n",
        "*   ***Reading:*** leitura\n",
        "*   ***Notes:*** faz anotações nas aulas\n",
        "*   ***Listening_in_Classs:*** atenção nas aulas\n",
        "*   ***Project_work:*** projeto de trabalho\n",
        "*   ***Grade:*** nota do aluno\n",
        "\n"
      ],
      "metadata": {
        "id": "9Aklt4aI95Az"
      }
    },
    {
      "cell_type": "markdown",
      "source": [
        "Primeiro, faremos a importação de todas as ferramentas necessárias para desenvolvimento do trabalho."
      ],
      "metadata": {
        "id": "XozTS_W3C5C_"
      }
    },
    {
      "cell_type": "code",
      "source": [
        "\n",
        "import pandas as pd\n",
        "import numpy as np\n",
        "import matplotlib\n",
        "import matplotlib.pyplot as plt\n",
        "import seaborn as sns\n",
        "\n",
        "\n"
      ],
      "metadata": {
        "id": "q6iY7U4ECDHv"
      },
      "execution_count": 287,
      "outputs": []
    },
    {
      "cell_type": "code",
      "source": [
        "# configuração para não exibir os warnings\n",
        "import warnings\n",
        "warnings.filterwarnings(\"ignore\")"
      ],
      "metadata": {
        "id": "X4idjl4cDMiC"
      },
      "execution_count": 288,
      "outputs": []
    },
    {
      "cell_type": "markdown",
      "source": [
        "# **2. Carga de Dados**\n",
        "\n",
        "Utilizando o pacote Pandas, carregaremos o dataset em .csv de acordo com o cabeçalho informado na descrição dos atributos."
      ],
      "metadata": {
        "id": "t0m1iS4KDOhJ"
      }
    },
    {
      "cell_type": "code",
      "source": [
        "# Carrega arquivo csv usando Pandas usando uma URL\n",
        "\n",
        "# Informa a URL de importação do dataset\n",
        "url = \"https://raw.githubusercontent.com/DanRMO/mvp-analisededadoseboaspraticas/main/student.csv\"\n",
        "\n",
        "\n",
        "\n",
        "# Lê o arquivo utilizando as colunas informadas\n",
        "dataset = pd.read_csv(url)"
      ],
      "metadata": {
        "id": "EWC4SypDFyEv"
      },
      "execution_count": 289,
      "outputs": []
    },
    {
      "cell_type": "code",
      "source": [
        "# Visualiza as primeiras 5 linhas para verificarmos se os dados foram importados corretamente\n",
        "dataset.head()"
      ],
      "metadata": {
        "colab": {
          "base_uri": "https://localhost:8080/",
          "height": 244
        },
        "id": "96-__2SUGFA8",
        "outputId": "e1e6c843-d9f4-4945-a280-9fc51bc1706c"
      },
      "execution_count": 290,
      "outputs": [
        {
          "output_type": "execute_result",
          "data": {
            "text/plain": [
              "   Unnamed: 0    Id  Student_Age     Sex High_School_Type Scholarship  \\\n",
              "0           0  5001           21    Male            Other         50%   \n",
              "1           1  5002           20    Male            Other         50%   \n",
              "2           2  5003           21    Male            State         50%   \n",
              "3           3  5004           18  Female          Private         50%   \n",
              "4           4  5005           22    Male          Private         50%   \n",
              "\n",
              "  Additional_Work Sports_activity Transportation  Weekly_Study_Hours  \\\n",
              "0             Yes              No        Private                   0   \n",
              "1             Yes              No        Private                   0   \n",
              "2              No              No        Private                   2   \n",
              "3             Yes              No            Bus                   2   \n",
              "4              No              No            Bus                  12   \n",
              "\n",
              "  Attendance Reading Notes Listening_in_Class Project_work Grade  \n",
              "0     Always     Yes   Yes                 No           No    AA  \n",
              "1     Always     Yes    No                Yes          Yes    AA  \n",
              "2      Never      No    No                 No          Yes    AA  \n",
              "3     Always      No   Yes                 No           No    AA  \n",
              "4     Always     Yes    No                Yes          Yes    AA  "
            ],
            "text/html": [
              "\n",
              "  <div id=\"df-9b1cf8a6-6a5b-42c4-8aaf-1467d554896a\" class=\"colab-df-container\">\n",
              "    <div>\n",
              "<style scoped>\n",
              "    .dataframe tbody tr th:only-of-type {\n",
              "        vertical-align: middle;\n",
              "    }\n",
              "\n",
              "    .dataframe tbody tr th {\n",
              "        vertical-align: top;\n",
              "    }\n",
              "\n",
              "    .dataframe thead th {\n",
              "        text-align: right;\n",
              "    }\n",
              "</style>\n",
              "<table border=\"1\" class=\"dataframe\">\n",
              "  <thead>\n",
              "    <tr style=\"text-align: right;\">\n",
              "      <th></th>\n",
              "      <th>Unnamed: 0</th>\n",
              "      <th>Id</th>\n",
              "      <th>Student_Age</th>\n",
              "      <th>Sex</th>\n",
              "      <th>High_School_Type</th>\n",
              "      <th>Scholarship</th>\n",
              "      <th>Additional_Work</th>\n",
              "      <th>Sports_activity</th>\n",
              "      <th>Transportation</th>\n",
              "      <th>Weekly_Study_Hours</th>\n",
              "      <th>Attendance</th>\n",
              "      <th>Reading</th>\n",
              "      <th>Notes</th>\n",
              "      <th>Listening_in_Class</th>\n",
              "      <th>Project_work</th>\n",
              "      <th>Grade</th>\n",
              "    </tr>\n",
              "  </thead>\n",
              "  <tbody>\n",
              "    <tr>\n",
              "      <th>0</th>\n",
              "      <td>0</td>\n",
              "      <td>5001</td>\n",
              "      <td>21</td>\n",
              "      <td>Male</td>\n",
              "      <td>Other</td>\n",
              "      <td>50%</td>\n",
              "      <td>Yes</td>\n",
              "      <td>No</td>\n",
              "      <td>Private</td>\n",
              "      <td>0</td>\n",
              "      <td>Always</td>\n",
              "      <td>Yes</td>\n",
              "      <td>Yes</td>\n",
              "      <td>No</td>\n",
              "      <td>No</td>\n",
              "      <td>AA</td>\n",
              "    </tr>\n",
              "    <tr>\n",
              "      <th>1</th>\n",
              "      <td>1</td>\n",
              "      <td>5002</td>\n",
              "      <td>20</td>\n",
              "      <td>Male</td>\n",
              "      <td>Other</td>\n",
              "      <td>50%</td>\n",
              "      <td>Yes</td>\n",
              "      <td>No</td>\n",
              "      <td>Private</td>\n",
              "      <td>0</td>\n",
              "      <td>Always</td>\n",
              "      <td>Yes</td>\n",
              "      <td>No</td>\n",
              "      <td>Yes</td>\n",
              "      <td>Yes</td>\n",
              "      <td>AA</td>\n",
              "    </tr>\n",
              "    <tr>\n",
              "      <th>2</th>\n",
              "      <td>2</td>\n",
              "      <td>5003</td>\n",
              "      <td>21</td>\n",
              "      <td>Male</td>\n",
              "      <td>State</td>\n",
              "      <td>50%</td>\n",
              "      <td>No</td>\n",
              "      <td>No</td>\n",
              "      <td>Private</td>\n",
              "      <td>2</td>\n",
              "      <td>Never</td>\n",
              "      <td>No</td>\n",
              "      <td>No</td>\n",
              "      <td>No</td>\n",
              "      <td>Yes</td>\n",
              "      <td>AA</td>\n",
              "    </tr>\n",
              "    <tr>\n",
              "      <th>3</th>\n",
              "      <td>3</td>\n",
              "      <td>5004</td>\n",
              "      <td>18</td>\n",
              "      <td>Female</td>\n",
              "      <td>Private</td>\n",
              "      <td>50%</td>\n",
              "      <td>Yes</td>\n",
              "      <td>No</td>\n",
              "      <td>Bus</td>\n",
              "      <td>2</td>\n",
              "      <td>Always</td>\n",
              "      <td>No</td>\n",
              "      <td>Yes</td>\n",
              "      <td>No</td>\n",
              "      <td>No</td>\n",
              "      <td>AA</td>\n",
              "    </tr>\n",
              "    <tr>\n",
              "      <th>4</th>\n",
              "      <td>4</td>\n",
              "      <td>5005</td>\n",
              "      <td>22</td>\n",
              "      <td>Male</td>\n",
              "      <td>Private</td>\n",
              "      <td>50%</td>\n",
              "      <td>No</td>\n",
              "      <td>No</td>\n",
              "      <td>Bus</td>\n",
              "      <td>12</td>\n",
              "      <td>Always</td>\n",
              "      <td>Yes</td>\n",
              "      <td>No</td>\n",
              "      <td>Yes</td>\n",
              "      <td>Yes</td>\n",
              "      <td>AA</td>\n",
              "    </tr>\n",
              "  </tbody>\n",
              "</table>\n",
              "</div>\n",
              "    <div class=\"colab-df-buttons\">\n",
              "\n",
              "  <div class=\"colab-df-container\">\n",
              "    <button class=\"colab-df-convert\" onclick=\"convertToInteractive('df-9b1cf8a6-6a5b-42c4-8aaf-1467d554896a')\"\n",
              "            title=\"Convert this dataframe to an interactive table.\"\n",
              "            style=\"display:none;\">\n",
              "\n",
              "  <svg xmlns=\"http://www.w3.org/2000/svg\" height=\"24px\" viewBox=\"0 -960 960 960\">\n",
              "    <path d=\"M120-120v-720h720v720H120Zm60-500h600v-160H180v160Zm220 220h160v-160H400v160Zm0 220h160v-160H400v160ZM180-400h160v-160H180v160Zm440 0h160v-160H620v160ZM180-180h160v-160H180v160Zm440 0h160v-160H620v160Z\"/>\n",
              "  </svg>\n",
              "    </button>\n",
              "\n",
              "  <style>\n",
              "    .colab-df-container {\n",
              "      display:flex;\n",
              "      gap: 12px;\n",
              "    }\n",
              "\n",
              "    .colab-df-convert {\n",
              "      background-color: #E8F0FE;\n",
              "      border: none;\n",
              "      border-radius: 50%;\n",
              "      cursor: pointer;\n",
              "      display: none;\n",
              "      fill: #1967D2;\n",
              "      height: 32px;\n",
              "      padding: 0 0 0 0;\n",
              "      width: 32px;\n",
              "    }\n",
              "\n",
              "    .colab-df-convert:hover {\n",
              "      background-color: #E2EBFA;\n",
              "      box-shadow: 0px 1px 2px rgba(60, 64, 67, 0.3), 0px 1px 3px 1px rgba(60, 64, 67, 0.15);\n",
              "      fill: #174EA6;\n",
              "    }\n",
              "\n",
              "    .colab-df-buttons div {\n",
              "      margin-bottom: 4px;\n",
              "    }\n",
              "\n",
              "    [theme=dark] .colab-df-convert {\n",
              "      background-color: #3B4455;\n",
              "      fill: #D2E3FC;\n",
              "    }\n",
              "\n",
              "    [theme=dark] .colab-df-convert:hover {\n",
              "      background-color: #434B5C;\n",
              "      box-shadow: 0px 1px 3px 1px rgba(0, 0, 0, 0.15);\n",
              "      filter: drop-shadow(0px 1px 2px rgba(0, 0, 0, 0.3));\n",
              "      fill: #FFFFFF;\n",
              "    }\n",
              "  </style>\n",
              "\n",
              "    <script>\n",
              "      const buttonEl =\n",
              "        document.querySelector('#df-9b1cf8a6-6a5b-42c4-8aaf-1467d554896a button.colab-df-convert');\n",
              "      buttonEl.style.display =\n",
              "        google.colab.kernel.accessAllowed ? 'block' : 'none';\n",
              "\n",
              "      async function convertToInteractive(key) {\n",
              "        const element = document.querySelector('#df-9b1cf8a6-6a5b-42c4-8aaf-1467d554896a');\n",
              "        const dataTable =\n",
              "          await google.colab.kernel.invokeFunction('convertToInteractive',\n",
              "                                                    [key], {});\n",
              "        if (!dataTable) return;\n",
              "\n",
              "        const docLinkHtml = 'Like what you see? Visit the ' +\n",
              "          '<a target=\"_blank\" href=https://colab.research.google.com/notebooks/data_table.ipynb>data table notebook</a>'\n",
              "          + ' to learn more about interactive tables.';\n",
              "        element.innerHTML = '';\n",
              "        dataTable['output_type'] = 'display_data';\n",
              "        await google.colab.output.renderOutput(dataTable, element);\n",
              "        const docLink = document.createElement('div');\n",
              "        docLink.innerHTML = docLinkHtml;\n",
              "        element.appendChild(docLink);\n",
              "      }\n",
              "    </script>\n",
              "  </div>\n",
              "\n",
              "\n",
              "<div id=\"df-4a3a2cf0-2517-48ec-a882-8c789e672c37\">\n",
              "  <button class=\"colab-df-quickchart\" onclick=\"quickchart('df-4a3a2cf0-2517-48ec-a882-8c789e672c37')\"\n",
              "            title=\"Suggest charts\"\n",
              "            style=\"display:none;\">\n",
              "\n",
              "<svg xmlns=\"http://www.w3.org/2000/svg\" height=\"24px\"viewBox=\"0 0 24 24\"\n",
              "     width=\"24px\">\n",
              "    <g>\n",
              "        <path d=\"M19 3H5c-1.1 0-2 .9-2 2v14c0 1.1.9 2 2 2h14c1.1 0 2-.9 2-2V5c0-1.1-.9-2-2-2zM9 17H7v-7h2v7zm4 0h-2V7h2v10zm4 0h-2v-4h2v4z\"/>\n",
              "    </g>\n",
              "</svg>\n",
              "  </button>\n",
              "\n",
              "<style>\n",
              "  .colab-df-quickchart {\n",
              "      --bg-color: #E8F0FE;\n",
              "      --fill-color: #1967D2;\n",
              "      --hover-bg-color: #E2EBFA;\n",
              "      --hover-fill-color: #174EA6;\n",
              "      --disabled-fill-color: #AAA;\n",
              "      --disabled-bg-color: #DDD;\n",
              "  }\n",
              "\n",
              "  [theme=dark] .colab-df-quickchart {\n",
              "      --bg-color: #3B4455;\n",
              "      --fill-color: #D2E3FC;\n",
              "      --hover-bg-color: #434B5C;\n",
              "      --hover-fill-color: #FFFFFF;\n",
              "      --disabled-bg-color: #3B4455;\n",
              "      --disabled-fill-color: #666;\n",
              "  }\n",
              "\n",
              "  .colab-df-quickchart {\n",
              "    background-color: var(--bg-color);\n",
              "    border: none;\n",
              "    border-radius: 50%;\n",
              "    cursor: pointer;\n",
              "    display: none;\n",
              "    fill: var(--fill-color);\n",
              "    height: 32px;\n",
              "    padding: 0;\n",
              "    width: 32px;\n",
              "  }\n",
              "\n",
              "  .colab-df-quickchart:hover {\n",
              "    background-color: var(--hover-bg-color);\n",
              "    box-shadow: 0 1px 2px rgba(60, 64, 67, 0.3), 0 1px 3px 1px rgba(60, 64, 67, 0.15);\n",
              "    fill: var(--button-hover-fill-color);\n",
              "  }\n",
              "\n",
              "  .colab-df-quickchart-complete:disabled,\n",
              "  .colab-df-quickchart-complete:disabled:hover {\n",
              "    background-color: var(--disabled-bg-color);\n",
              "    fill: var(--disabled-fill-color);\n",
              "    box-shadow: none;\n",
              "  }\n",
              "\n",
              "  .colab-df-spinner {\n",
              "    border: 2px solid var(--fill-color);\n",
              "    border-color: transparent;\n",
              "    border-bottom-color: var(--fill-color);\n",
              "    animation:\n",
              "      spin 1s steps(1) infinite;\n",
              "  }\n",
              "\n",
              "  @keyframes spin {\n",
              "    0% {\n",
              "      border-color: transparent;\n",
              "      border-bottom-color: var(--fill-color);\n",
              "      border-left-color: var(--fill-color);\n",
              "    }\n",
              "    20% {\n",
              "      border-color: transparent;\n",
              "      border-left-color: var(--fill-color);\n",
              "      border-top-color: var(--fill-color);\n",
              "    }\n",
              "    30% {\n",
              "      border-color: transparent;\n",
              "      border-left-color: var(--fill-color);\n",
              "      border-top-color: var(--fill-color);\n",
              "      border-right-color: var(--fill-color);\n",
              "    }\n",
              "    40% {\n",
              "      border-color: transparent;\n",
              "      border-right-color: var(--fill-color);\n",
              "      border-top-color: var(--fill-color);\n",
              "    }\n",
              "    60% {\n",
              "      border-color: transparent;\n",
              "      border-right-color: var(--fill-color);\n",
              "    }\n",
              "    80% {\n",
              "      border-color: transparent;\n",
              "      border-right-color: var(--fill-color);\n",
              "      border-bottom-color: var(--fill-color);\n",
              "    }\n",
              "    90% {\n",
              "      border-color: transparent;\n",
              "      border-bottom-color: var(--fill-color);\n",
              "    }\n",
              "  }\n",
              "</style>\n",
              "\n",
              "  <script>\n",
              "    async function quickchart(key) {\n",
              "      const quickchartButtonEl =\n",
              "        document.querySelector('#' + key + ' button');\n",
              "      quickchartButtonEl.disabled = true;  // To prevent multiple clicks.\n",
              "      quickchartButtonEl.classList.add('colab-df-spinner');\n",
              "      try {\n",
              "        const charts = await google.colab.kernel.invokeFunction(\n",
              "            'suggestCharts', [key], {});\n",
              "      } catch (error) {\n",
              "        console.error('Error during call to suggestCharts:', error);\n",
              "      }\n",
              "      quickchartButtonEl.classList.remove('colab-df-spinner');\n",
              "      quickchartButtonEl.classList.add('colab-df-quickchart-complete');\n",
              "    }\n",
              "    (() => {\n",
              "      let quickchartButtonEl =\n",
              "        document.querySelector('#df-4a3a2cf0-2517-48ec-a882-8c789e672c37 button');\n",
              "      quickchartButtonEl.style.display =\n",
              "        google.colab.kernel.accessAllowed ? 'block' : 'none';\n",
              "    })();\n",
              "  </script>\n",
              "</div>\n",
              "\n",
              "    </div>\n",
              "  </div>\n"
            ]
          },
          "metadata": {},
          "execution_count": 290
        }
      ]
    },
    {
      "cell_type": "markdown",
      "source": [
        "Vamos remover as colunas desnecessárias: Unnamed : 0 e ID"
      ],
      "metadata": {
        "id": "Em5yTpeWRmpV"
      }
    },
    {
      "cell_type": "code",
      "source": [
        "remover = ['Unnamed: 0', 'Id']\n",
        "df = dataset.drop(columns=remover)\n",
        "\n",
        "df.head()"
      ],
      "metadata": {
        "colab": {
          "base_uri": "https://localhost:8080/",
          "height": 226
        },
        "id": "ej5ybDMhRtrv",
        "outputId": "1e90411c-a8f9-46c1-d4ec-848964c8f991"
      },
      "execution_count": 291,
      "outputs": [
        {
          "output_type": "execute_result",
          "data": {
            "text/plain": [
              "   Student_Age     Sex High_School_Type Scholarship Additional_Work  \\\n",
              "0           21    Male            Other         50%             Yes   \n",
              "1           20    Male            Other         50%             Yes   \n",
              "2           21    Male            State         50%              No   \n",
              "3           18  Female          Private         50%             Yes   \n",
              "4           22    Male          Private         50%              No   \n",
              "\n",
              "  Sports_activity Transportation  Weekly_Study_Hours Attendance Reading Notes  \\\n",
              "0              No        Private                   0     Always     Yes   Yes   \n",
              "1              No        Private                   0     Always     Yes    No   \n",
              "2              No        Private                   2      Never      No    No   \n",
              "3              No            Bus                   2     Always      No   Yes   \n",
              "4              No            Bus                  12     Always     Yes    No   \n",
              "\n",
              "  Listening_in_Class Project_work Grade  \n",
              "0                 No           No    AA  \n",
              "1                Yes          Yes    AA  \n",
              "2                 No          Yes    AA  \n",
              "3                 No           No    AA  \n",
              "4                Yes          Yes    AA  "
            ],
            "text/html": [
              "\n",
              "  <div id=\"df-7c716556-869e-40cf-8056-bf7278162d6c\" class=\"colab-df-container\">\n",
              "    <div>\n",
              "<style scoped>\n",
              "    .dataframe tbody tr th:only-of-type {\n",
              "        vertical-align: middle;\n",
              "    }\n",
              "\n",
              "    .dataframe tbody tr th {\n",
              "        vertical-align: top;\n",
              "    }\n",
              "\n",
              "    .dataframe thead th {\n",
              "        text-align: right;\n",
              "    }\n",
              "</style>\n",
              "<table border=\"1\" class=\"dataframe\">\n",
              "  <thead>\n",
              "    <tr style=\"text-align: right;\">\n",
              "      <th></th>\n",
              "      <th>Student_Age</th>\n",
              "      <th>Sex</th>\n",
              "      <th>High_School_Type</th>\n",
              "      <th>Scholarship</th>\n",
              "      <th>Additional_Work</th>\n",
              "      <th>Sports_activity</th>\n",
              "      <th>Transportation</th>\n",
              "      <th>Weekly_Study_Hours</th>\n",
              "      <th>Attendance</th>\n",
              "      <th>Reading</th>\n",
              "      <th>Notes</th>\n",
              "      <th>Listening_in_Class</th>\n",
              "      <th>Project_work</th>\n",
              "      <th>Grade</th>\n",
              "    </tr>\n",
              "  </thead>\n",
              "  <tbody>\n",
              "    <tr>\n",
              "      <th>0</th>\n",
              "      <td>21</td>\n",
              "      <td>Male</td>\n",
              "      <td>Other</td>\n",
              "      <td>50%</td>\n",
              "      <td>Yes</td>\n",
              "      <td>No</td>\n",
              "      <td>Private</td>\n",
              "      <td>0</td>\n",
              "      <td>Always</td>\n",
              "      <td>Yes</td>\n",
              "      <td>Yes</td>\n",
              "      <td>No</td>\n",
              "      <td>No</td>\n",
              "      <td>AA</td>\n",
              "    </tr>\n",
              "    <tr>\n",
              "      <th>1</th>\n",
              "      <td>20</td>\n",
              "      <td>Male</td>\n",
              "      <td>Other</td>\n",
              "      <td>50%</td>\n",
              "      <td>Yes</td>\n",
              "      <td>No</td>\n",
              "      <td>Private</td>\n",
              "      <td>0</td>\n",
              "      <td>Always</td>\n",
              "      <td>Yes</td>\n",
              "      <td>No</td>\n",
              "      <td>Yes</td>\n",
              "      <td>Yes</td>\n",
              "      <td>AA</td>\n",
              "    </tr>\n",
              "    <tr>\n",
              "      <th>2</th>\n",
              "      <td>21</td>\n",
              "      <td>Male</td>\n",
              "      <td>State</td>\n",
              "      <td>50%</td>\n",
              "      <td>No</td>\n",
              "      <td>No</td>\n",
              "      <td>Private</td>\n",
              "      <td>2</td>\n",
              "      <td>Never</td>\n",
              "      <td>No</td>\n",
              "      <td>No</td>\n",
              "      <td>No</td>\n",
              "      <td>Yes</td>\n",
              "      <td>AA</td>\n",
              "    </tr>\n",
              "    <tr>\n",
              "      <th>3</th>\n",
              "      <td>18</td>\n",
              "      <td>Female</td>\n",
              "      <td>Private</td>\n",
              "      <td>50%</td>\n",
              "      <td>Yes</td>\n",
              "      <td>No</td>\n",
              "      <td>Bus</td>\n",
              "      <td>2</td>\n",
              "      <td>Always</td>\n",
              "      <td>No</td>\n",
              "      <td>Yes</td>\n",
              "      <td>No</td>\n",
              "      <td>No</td>\n",
              "      <td>AA</td>\n",
              "    </tr>\n",
              "    <tr>\n",
              "      <th>4</th>\n",
              "      <td>22</td>\n",
              "      <td>Male</td>\n",
              "      <td>Private</td>\n",
              "      <td>50%</td>\n",
              "      <td>No</td>\n",
              "      <td>No</td>\n",
              "      <td>Bus</td>\n",
              "      <td>12</td>\n",
              "      <td>Always</td>\n",
              "      <td>Yes</td>\n",
              "      <td>No</td>\n",
              "      <td>Yes</td>\n",
              "      <td>Yes</td>\n",
              "      <td>AA</td>\n",
              "    </tr>\n",
              "  </tbody>\n",
              "</table>\n",
              "</div>\n",
              "    <div class=\"colab-df-buttons\">\n",
              "\n",
              "  <div class=\"colab-df-container\">\n",
              "    <button class=\"colab-df-convert\" onclick=\"convertToInteractive('df-7c716556-869e-40cf-8056-bf7278162d6c')\"\n",
              "            title=\"Convert this dataframe to an interactive table.\"\n",
              "            style=\"display:none;\">\n",
              "\n",
              "  <svg xmlns=\"http://www.w3.org/2000/svg\" height=\"24px\" viewBox=\"0 -960 960 960\">\n",
              "    <path d=\"M120-120v-720h720v720H120Zm60-500h600v-160H180v160Zm220 220h160v-160H400v160Zm0 220h160v-160H400v160ZM180-400h160v-160H180v160Zm440 0h160v-160H620v160ZM180-180h160v-160H180v160Zm440 0h160v-160H620v160Z\"/>\n",
              "  </svg>\n",
              "    </button>\n",
              "\n",
              "  <style>\n",
              "    .colab-df-container {\n",
              "      display:flex;\n",
              "      gap: 12px;\n",
              "    }\n",
              "\n",
              "    .colab-df-convert {\n",
              "      background-color: #E8F0FE;\n",
              "      border: none;\n",
              "      border-radius: 50%;\n",
              "      cursor: pointer;\n",
              "      display: none;\n",
              "      fill: #1967D2;\n",
              "      height: 32px;\n",
              "      padding: 0 0 0 0;\n",
              "      width: 32px;\n",
              "    }\n",
              "\n",
              "    .colab-df-convert:hover {\n",
              "      background-color: #E2EBFA;\n",
              "      box-shadow: 0px 1px 2px rgba(60, 64, 67, 0.3), 0px 1px 3px 1px rgba(60, 64, 67, 0.15);\n",
              "      fill: #174EA6;\n",
              "    }\n",
              "\n",
              "    .colab-df-buttons div {\n",
              "      margin-bottom: 4px;\n",
              "    }\n",
              "\n",
              "    [theme=dark] .colab-df-convert {\n",
              "      background-color: #3B4455;\n",
              "      fill: #D2E3FC;\n",
              "    }\n",
              "\n",
              "    [theme=dark] .colab-df-convert:hover {\n",
              "      background-color: #434B5C;\n",
              "      box-shadow: 0px 1px 3px 1px rgba(0, 0, 0, 0.15);\n",
              "      filter: drop-shadow(0px 1px 2px rgba(0, 0, 0, 0.3));\n",
              "      fill: #FFFFFF;\n",
              "    }\n",
              "  </style>\n",
              "\n",
              "    <script>\n",
              "      const buttonEl =\n",
              "        document.querySelector('#df-7c716556-869e-40cf-8056-bf7278162d6c button.colab-df-convert');\n",
              "      buttonEl.style.display =\n",
              "        google.colab.kernel.accessAllowed ? 'block' : 'none';\n",
              "\n",
              "      async function convertToInteractive(key) {\n",
              "        const element = document.querySelector('#df-7c716556-869e-40cf-8056-bf7278162d6c');\n",
              "        const dataTable =\n",
              "          await google.colab.kernel.invokeFunction('convertToInteractive',\n",
              "                                                    [key], {});\n",
              "        if (!dataTable) return;\n",
              "\n",
              "        const docLinkHtml = 'Like what you see? Visit the ' +\n",
              "          '<a target=\"_blank\" href=https://colab.research.google.com/notebooks/data_table.ipynb>data table notebook</a>'\n",
              "          + ' to learn more about interactive tables.';\n",
              "        element.innerHTML = '';\n",
              "        dataTable['output_type'] = 'display_data';\n",
              "        await google.colab.output.renderOutput(dataTable, element);\n",
              "        const docLink = document.createElement('div');\n",
              "        docLink.innerHTML = docLinkHtml;\n",
              "        element.appendChild(docLink);\n",
              "      }\n",
              "    </script>\n",
              "  </div>\n",
              "\n",
              "\n",
              "<div id=\"df-235898e2-c048-4b7a-b53b-6d9766dda2d1\">\n",
              "  <button class=\"colab-df-quickchart\" onclick=\"quickchart('df-235898e2-c048-4b7a-b53b-6d9766dda2d1')\"\n",
              "            title=\"Suggest charts\"\n",
              "            style=\"display:none;\">\n",
              "\n",
              "<svg xmlns=\"http://www.w3.org/2000/svg\" height=\"24px\"viewBox=\"0 0 24 24\"\n",
              "     width=\"24px\">\n",
              "    <g>\n",
              "        <path d=\"M19 3H5c-1.1 0-2 .9-2 2v14c0 1.1.9 2 2 2h14c1.1 0 2-.9 2-2V5c0-1.1-.9-2-2-2zM9 17H7v-7h2v7zm4 0h-2V7h2v10zm4 0h-2v-4h2v4z\"/>\n",
              "    </g>\n",
              "</svg>\n",
              "  </button>\n",
              "\n",
              "<style>\n",
              "  .colab-df-quickchart {\n",
              "      --bg-color: #E8F0FE;\n",
              "      --fill-color: #1967D2;\n",
              "      --hover-bg-color: #E2EBFA;\n",
              "      --hover-fill-color: #174EA6;\n",
              "      --disabled-fill-color: #AAA;\n",
              "      --disabled-bg-color: #DDD;\n",
              "  }\n",
              "\n",
              "  [theme=dark] .colab-df-quickchart {\n",
              "      --bg-color: #3B4455;\n",
              "      --fill-color: #D2E3FC;\n",
              "      --hover-bg-color: #434B5C;\n",
              "      --hover-fill-color: #FFFFFF;\n",
              "      --disabled-bg-color: #3B4455;\n",
              "      --disabled-fill-color: #666;\n",
              "  }\n",
              "\n",
              "  .colab-df-quickchart {\n",
              "    background-color: var(--bg-color);\n",
              "    border: none;\n",
              "    border-radius: 50%;\n",
              "    cursor: pointer;\n",
              "    display: none;\n",
              "    fill: var(--fill-color);\n",
              "    height: 32px;\n",
              "    padding: 0;\n",
              "    width: 32px;\n",
              "  }\n",
              "\n",
              "  .colab-df-quickchart:hover {\n",
              "    background-color: var(--hover-bg-color);\n",
              "    box-shadow: 0 1px 2px rgba(60, 64, 67, 0.3), 0 1px 3px 1px rgba(60, 64, 67, 0.15);\n",
              "    fill: var(--button-hover-fill-color);\n",
              "  }\n",
              "\n",
              "  .colab-df-quickchart-complete:disabled,\n",
              "  .colab-df-quickchart-complete:disabled:hover {\n",
              "    background-color: var(--disabled-bg-color);\n",
              "    fill: var(--disabled-fill-color);\n",
              "    box-shadow: none;\n",
              "  }\n",
              "\n",
              "  .colab-df-spinner {\n",
              "    border: 2px solid var(--fill-color);\n",
              "    border-color: transparent;\n",
              "    border-bottom-color: var(--fill-color);\n",
              "    animation:\n",
              "      spin 1s steps(1) infinite;\n",
              "  }\n",
              "\n",
              "  @keyframes spin {\n",
              "    0% {\n",
              "      border-color: transparent;\n",
              "      border-bottom-color: var(--fill-color);\n",
              "      border-left-color: var(--fill-color);\n",
              "    }\n",
              "    20% {\n",
              "      border-color: transparent;\n",
              "      border-left-color: var(--fill-color);\n",
              "      border-top-color: var(--fill-color);\n",
              "    }\n",
              "    30% {\n",
              "      border-color: transparent;\n",
              "      border-left-color: var(--fill-color);\n",
              "      border-top-color: var(--fill-color);\n",
              "      border-right-color: var(--fill-color);\n",
              "    }\n",
              "    40% {\n",
              "      border-color: transparent;\n",
              "      border-right-color: var(--fill-color);\n",
              "      border-top-color: var(--fill-color);\n",
              "    }\n",
              "    60% {\n",
              "      border-color: transparent;\n",
              "      border-right-color: var(--fill-color);\n",
              "    }\n",
              "    80% {\n",
              "      border-color: transparent;\n",
              "      border-right-color: var(--fill-color);\n",
              "      border-bottom-color: var(--fill-color);\n",
              "    }\n",
              "    90% {\n",
              "      border-color: transparent;\n",
              "      border-bottom-color: var(--fill-color);\n",
              "    }\n",
              "  }\n",
              "</style>\n",
              "\n",
              "  <script>\n",
              "    async function quickchart(key) {\n",
              "      const quickchartButtonEl =\n",
              "        document.querySelector('#' + key + ' button');\n",
              "      quickchartButtonEl.disabled = true;  // To prevent multiple clicks.\n",
              "      quickchartButtonEl.classList.add('colab-df-spinner');\n",
              "      try {\n",
              "        const charts = await google.colab.kernel.invokeFunction(\n",
              "            'suggestCharts', [key], {});\n",
              "      } catch (error) {\n",
              "        console.error('Error during call to suggestCharts:', error);\n",
              "      }\n",
              "      quickchartButtonEl.classList.remove('colab-df-spinner');\n",
              "      quickchartButtonEl.classList.add('colab-df-quickchart-complete');\n",
              "    }\n",
              "    (() => {\n",
              "      let quickchartButtonEl =\n",
              "        document.querySelector('#df-235898e2-c048-4b7a-b53b-6d9766dda2d1 button');\n",
              "      quickchartButtonEl.style.display =\n",
              "        google.colab.kernel.accessAllowed ? 'block' : 'none';\n",
              "    })();\n",
              "  </script>\n",
              "</div>\n",
              "\n",
              "    </div>\n",
              "  </div>\n"
            ]
          },
          "metadata": {},
          "execution_count": 291
        }
      ]
    },
    {
      "cell_type": "markdown",
      "source": [
        "# **3. Análise e tratamento dos dados**\n",
        "\n",
        "Faremos análise das informações presentes no dataset e tratamentos que forem necessários para melhor visualização dos dados e conclusão do trabalho."
      ],
      "metadata": {
        "id": "QhjsyfgXIwio"
      }
    },
    {
      "cell_type": "code",
      "source": [
        "# Mostra as dimensões do dataset\n",
        "print(df.shape)"
      ],
      "metadata": {
        "colab": {
          "base_uri": "https://localhost:8080/"
        },
        "id": "xeU9XUZDSFl6",
        "outputId": "02d1982c-8906-4267-b440-7647bce4bd7f"
      },
      "execution_count": 292,
      "outputs": [
        {
          "output_type": "stream",
          "name": "stdout",
          "text": [
            "(145, 14)\n"
          ]
        }
      ]
    },
    {
      "cell_type": "code",
      "source": [
        "# Faz um resumo estatístico do dataset (média, desvio padrão, mínimo, máximo e os quartis)\n",
        "df.describe()"
      ],
      "metadata": {
        "colab": {
          "base_uri": "https://localhost:8080/",
          "height": 300
        },
        "id": "DMmTLuSPUH-Q",
        "outputId": "38251d08-de4b-483b-a0a4-ec8c4ba502ab"
      },
      "execution_count": 293,
      "outputs": [
        {
          "output_type": "execute_result",
          "data": {
            "text/plain": [
              "       Student_Age  Weekly_Study_Hours\n",
              "count   145.000000          145.000000\n",
              "mean     19.682759            2.331034\n",
              "std       1.992010            4.249273\n",
              "min      18.000000            0.000000\n",
              "25%      18.000000            0.000000\n",
              "50%      19.000000            0.000000\n",
              "75%      21.000000            2.000000\n",
              "max      26.000000           12.000000"
            ],
            "text/html": [
              "\n",
              "  <div id=\"df-f02bead3-beb0-4f29-a76a-3a0ad795d877\" class=\"colab-df-container\">\n",
              "    <div>\n",
              "<style scoped>\n",
              "    .dataframe tbody tr th:only-of-type {\n",
              "        vertical-align: middle;\n",
              "    }\n",
              "\n",
              "    .dataframe tbody tr th {\n",
              "        vertical-align: top;\n",
              "    }\n",
              "\n",
              "    .dataframe thead th {\n",
              "        text-align: right;\n",
              "    }\n",
              "</style>\n",
              "<table border=\"1\" class=\"dataframe\">\n",
              "  <thead>\n",
              "    <tr style=\"text-align: right;\">\n",
              "      <th></th>\n",
              "      <th>Student_Age</th>\n",
              "      <th>Weekly_Study_Hours</th>\n",
              "    </tr>\n",
              "  </thead>\n",
              "  <tbody>\n",
              "    <tr>\n",
              "      <th>count</th>\n",
              "      <td>145.000000</td>\n",
              "      <td>145.000000</td>\n",
              "    </tr>\n",
              "    <tr>\n",
              "      <th>mean</th>\n",
              "      <td>19.682759</td>\n",
              "      <td>2.331034</td>\n",
              "    </tr>\n",
              "    <tr>\n",
              "      <th>std</th>\n",
              "      <td>1.992010</td>\n",
              "      <td>4.249273</td>\n",
              "    </tr>\n",
              "    <tr>\n",
              "      <th>min</th>\n",
              "      <td>18.000000</td>\n",
              "      <td>0.000000</td>\n",
              "    </tr>\n",
              "    <tr>\n",
              "      <th>25%</th>\n",
              "      <td>18.000000</td>\n",
              "      <td>0.000000</td>\n",
              "    </tr>\n",
              "    <tr>\n",
              "      <th>50%</th>\n",
              "      <td>19.000000</td>\n",
              "      <td>0.000000</td>\n",
              "    </tr>\n",
              "    <tr>\n",
              "      <th>75%</th>\n",
              "      <td>21.000000</td>\n",
              "      <td>2.000000</td>\n",
              "    </tr>\n",
              "    <tr>\n",
              "      <th>max</th>\n",
              "      <td>26.000000</td>\n",
              "      <td>12.000000</td>\n",
              "    </tr>\n",
              "  </tbody>\n",
              "</table>\n",
              "</div>\n",
              "    <div class=\"colab-df-buttons\">\n",
              "\n",
              "  <div class=\"colab-df-container\">\n",
              "    <button class=\"colab-df-convert\" onclick=\"convertToInteractive('df-f02bead3-beb0-4f29-a76a-3a0ad795d877')\"\n",
              "            title=\"Convert this dataframe to an interactive table.\"\n",
              "            style=\"display:none;\">\n",
              "\n",
              "  <svg xmlns=\"http://www.w3.org/2000/svg\" height=\"24px\" viewBox=\"0 -960 960 960\">\n",
              "    <path d=\"M120-120v-720h720v720H120Zm60-500h600v-160H180v160Zm220 220h160v-160H400v160Zm0 220h160v-160H400v160ZM180-400h160v-160H180v160Zm440 0h160v-160H620v160ZM180-180h160v-160H180v160Zm440 0h160v-160H620v160Z\"/>\n",
              "  </svg>\n",
              "    </button>\n",
              "\n",
              "  <style>\n",
              "    .colab-df-container {\n",
              "      display:flex;\n",
              "      gap: 12px;\n",
              "    }\n",
              "\n",
              "    .colab-df-convert {\n",
              "      background-color: #E8F0FE;\n",
              "      border: none;\n",
              "      border-radius: 50%;\n",
              "      cursor: pointer;\n",
              "      display: none;\n",
              "      fill: #1967D2;\n",
              "      height: 32px;\n",
              "      padding: 0 0 0 0;\n",
              "      width: 32px;\n",
              "    }\n",
              "\n",
              "    .colab-df-convert:hover {\n",
              "      background-color: #E2EBFA;\n",
              "      box-shadow: 0px 1px 2px rgba(60, 64, 67, 0.3), 0px 1px 3px 1px rgba(60, 64, 67, 0.15);\n",
              "      fill: #174EA6;\n",
              "    }\n",
              "\n",
              "    .colab-df-buttons div {\n",
              "      margin-bottom: 4px;\n",
              "    }\n",
              "\n",
              "    [theme=dark] .colab-df-convert {\n",
              "      background-color: #3B4455;\n",
              "      fill: #D2E3FC;\n",
              "    }\n",
              "\n",
              "    [theme=dark] .colab-df-convert:hover {\n",
              "      background-color: #434B5C;\n",
              "      box-shadow: 0px 1px 3px 1px rgba(0, 0, 0, 0.15);\n",
              "      filter: drop-shadow(0px 1px 2px rgba(0, 0, 0, 0.3));\n",
              "      fill: #FFFFFF;\n",
              "    }\n",
              "  </style>\n",
              "\n",
              "    <script>\n",
              "      const buttonEl =\n",
              "        document.querySelector('#df-f02bead3-beb0-4f29-a76a-3a0ad795d877 button.colab-df-convert');\n",
              "      buttonEl.style.display =\n",
              "        google.colab.kernel.accessAllowed ? 'block' : 'none';\n",
              "\n",
              "      async function convertToInteractive(key) {\n",
              "        const element = document.querySelector('#df-f02bead3-beb0-4f29-a76a-3a0ad795d877');\n",
              "        const dataTable =\n",
              "          await google.colab.kernel.invokeFunction('convertToInteractive',\n",
              "                                                    [key], {});\n",
              "        if (!dataTable) return;\n",
              "\n",
              "        const docLinkHtml = 'Like what you see? Visit the ' +\n",
              "          '<a target=\"_blank\" href=https://colab.research.google.com/notebooks/data_table.ipynb>data table notebook</a>'\n",
              "          + ' to learn more about interactive tables.';\n",
              "        element.innerHTML = '';\n",
              "        dataTable['output_type'] = 'display_data';\n",
              "        await google.colab.output.renderOutput(dataTable, element);\n",
              "        const docLink = document.createElement('div');\n",
              "        docLink.innerHTML = docLinkHtml;\n",
              "        element.appendChild(docLink);\n",
              "      }\n",
              "    </script>\n",
              "  </div>\n",
              "\n",
              "\n",
              "<div id=\"df-b4de1151-97d9-48bb-b5d2-8f943eb3c301\">\n",
              "  <button class=\"colab-df-quickchart\" onclick=\"quickchart('df-b4de1151-97d9-48bb-b5d2-8f943eb3c301')\"\n",
              "            title=\"Suggest charts\"\n",
              "            style=\"display:none;\">\n",
              "\n",
              "<svg xmlns=\"http://www.w3.org/2000/svg\" height=\"24px\"viewBox=\"0 0 24 24\"\n",
              "     width=\"24px\">\n",
              "    <g>\n",
              "        <path d=\"M19 3H5c-1.1 0-2 .9-2 2v14c0 1.1.9 2 2 2h14c1.1 0 2-.9 2-2V5c0-1.1-.9-2-2-2zM9 17H7v-7h2v7zm4 0h-2V7h2v10zm4 0h-2v-4h2v4z\"/>\n",
              "    </g>\n",
              "</svg>\n",
              "  </button>\n",
              "\n",
              "<style>\n",
              "  .colab-df-quickchart {\n",
              "      --bg-color: #E8F0FE;\n",
              "      --fill-color: #1967D2;\n",
              "      --hover-bg-color: #E2EBFA;\n",
              "      --hover-fill-color: #174EA6;\n",
              "      --disabled-fill-color: #AAA;\n",
              "      --disabled-bg-color: #DDD;\n",
              "  }\n",
              "\n",
              "  [theme=dark] .colab-df-quickchart {\n",
              "      --bg-color: #3B4455;\n",
              "      --fill-color: #D2E3FC;\n",
              "      --hover-bg-color: #434B5C;\n",
              "      --hover-fill-color: #FFFFFF;\n",
              "      --disabled-bg-color: #3B4455;\n",
              "      --disabled-fill-color: #666;\n",
              "  }\n",
              "\n",
              "  .colab-df-quickchart {\n",
              "    background-color: var(--bg-color);\n",
              "    border: none;\n",
              "    border-radius: 50%;\n",
              "    cursor: pointer;\n",
              "    display: none;\n",
              "    fill: var(--fill-color);\n",
              "    height: 32px;\n",
              "    padding: 0;\n",
              "    width: 32px;\n",
              "  }\n",
              "\n",
              "  .colab-df-quickchart:hover {\n",
              "    background-color: var(--hover-bg-color);\n",
              "    box-shadow: 0 1px 2px rgba(60, 64, 67, 0.3), 0 1px 3px 1px rgba(60, 64, 67, 0.15);\n",
              "    fill: var(--button-hover-fill-color);\n",
              "  }\n",
              "\n",
              "  .colab-df-quickchart-complete:disabled,\n",
              "  .colab-df-quickchart-complete:disabled:hover {\n",
              "    background-color: var(--disabled-bg-color);\n",
              "    fill: var(--disabled-fill-color);\n",
              "    box-shadow: none;\n",
              "  }\n",
              "\n",
              "  .colab-df-spinner {\n",
              "    border: 2px solid var(--fill-color);\n",
              "    border-color: transparent;\n",
              "    border-bottom-color: var(--fill-color);\n",
              "    animation:\n",
              "      spin 1s steps(1) infinite;\n",
              "  }\n",
              "\n",
              "  @keyframes spin {\n",
              "    0% {\n",
              "      border-color: transparent;\n",
              "      border-bottom-color: var(--fill-color);\n",
              "      border-left-color: var(--fill-color);\n",
              "    }\n",
              "    20% {\n",
              "      border-color: transparent;\n",
              "      border-left-color: var(--fill-color);\n",
              "      border-top-color: var(--fill-color);\n",
              "    }\n",
              "    30% {\n",
              "      border-color: transparent;\n",
              "      border-left-color: var(--fill-color);\n",
              "      border-top-color: var(--fill-color);\n",
              "      border-right-color: var(--fill-color);\n",
              "    }\n",
              "    40% {\n",
              "      border-color: transparent;\n",
              "      border-right-color: var(--fill-color);\n",
              "      border-top-color: var(--fill-color);\n",
              "    }\n",
              "    60% {\n",
              "      border-color: transparent;\n",
              "      border-right-color: var(--fill-color);\n",
              "    }\n",
              "    80% {\n",
              "      border-color: transparent;\n",
              "      border-right-color: var(--fill-color);\n",
              "      border-bottom-color: var(--fill-color);\n",
              "    }\n",
              "    90% {\n",
              "      border-color: transparent;\n",
              "      border-bottom-color: var(--fill-color);\n",
              "    }\n",
              "  }\n",
              "</style>\n",
              "\n",
              "  <script>\n",
              "    async function quickchart(key) {\n",
              "      const quickchartButtonEl =\n",
              "        document.querySelector('#' + key + ' button');\n",
              "      quickchartButtonEl.disabled = true;  // To prevent multiple clicks.\n",
              "      quickchartButtonEl.classList.add('colab-df-spinner');\n",
              "      try {\n",
              "        const charts = await google.colab.kernel.invokeFunction(\n",
              "            'suggestCharts', [key], {});\n",
              "      } catch (error) {\n",
              "        console.error('Error during call to suggestCharts:', error);\n",
              "      }\n",
              "      quickchartButtonEl.classList.remove('colab-df-spinner');\n",
              "      quickchartButtonEl.classList.add('colab-df-quickchart-complete');\n",
              "    }\n",
              "    (() => {\n",
              "      let quickchartButtonEl =\n",
              "        document.querySelector('#df-b4de1151-97d9-48bb-b5d2-8f943eb3c301 button');\n",
              "      quickchartButtonEl.style.display =\n",
              "        google.colab.kernel.accessAllowed ? 'block' : 'none';\n",
              "    })();\n",
              "  </script>\n",
              "</div>\n",
              "\n",
              "    </div>\n",
              "  </div>\n"
            ]
          },
          "metadata": {},
          "execution_count": 293
        }
      ]
    },
    {
      "cell_type": "code",
      "source": [
        "# Mostra as informações do dataset\n",
        "print(df.info())"
      ],
      "metadata": {
        "colab": {
          "base_uri": "https://localhost:8080/"
        },
        "id": "ufyWXppLSJuz",
        "outputId": "6626819f-d6ec-4cdb-e972-31ccc9809dd7"
      },
      "execution_count": 294,
      "outputs": [
        {
          "output_type": "stream",
          "name": "stdout",
          "text": [
            "<class 'pandas.core.frame.DataFrame'>\n",
            "RangeIndex: 145 entries, 0 to 144\n",
            "Data columns (total 14 columns):\n",
            " #   Column              Non-Null Count  Dtype \n",
            "---  ------              --------------  ----- \n",
            " 0   Student_Age         145 non-null    int64 \n",
            " 1   Sex                 145 non-null    object\n",
            " 2   High_School_Type    145 non-null    object\n",
            " 3   Scholarship         145 non-null    object\n",
            " 4   Additional_Work     145 non-null    object\n",
            " 5   Sports_activity     145 non-null    object\n",
            " 6   Transportation      145 non-null    object\n",
            " 7   Weekly_Study_Hours  145 non-null    int64 \n",
            " 8   Attendance          145 non-null    object\n",
            " 9   Reading             145 non-null    object\n",
            " 10  Notes               145 non-null    object\n",
            " 11  Listening_in_Class  145 non-null    object\n",
            " 12  Project_work        145 non-null    object\n",
            " 13  Grade               145 non-null    object\n",
            "dtypes: int64(2), object(12)\n",
            "memory usage: 16.0+ KB\n",
            "None\n"
          ]
        }
      ]
    },
    {
      "cell_type": "markdown",
      "source": [
        "Podemos verificar que não há informações faltando em nosso dataset."
      ],
      "metadata": {
        "id": "tJlP0Ja9ScOZ"
      }
    },
    {
      "cell_type": "code",
      "source": [
        "# verificando valores categóricos para colunas de tipo de objeto\n",
        "for column in df.select_dtypes(include='object').columns:\n",
        "    print(f\"{column}, {df[column].unique()}\")"
      ],
      "metadata": {
        "colab": {
          "base_uri": "https://localhost:8080/"
        },
        "id": "k2zOtm8UT0SA",
        "outputId": "45ba7765-4e2e-4bfc-d04d-0dbed66b8cf8"
      },
      "execution_count": 295,
      "outputs": [
        {
          "output_type": "stream",
          "name": "stdout",
          "text": [
            "Sex, ['Male' 'Female']\n",
            "High_School_Type, ['Other' 'State' 'Private']\n",
            "Scholarship, ['50%' '75%' '100%' '25%' 'None']\n",
            "Additional_Work, ['Yes' 'No']\n",
            "Sports_activity, ['No' 'Yes']\n",
            "Transportation, ['Private' 'Bus']\n",
            "Attendance, ['Always' 'Never' 'Sometimes' '3']\n",
            "Reading, ['Yes' 'No']\n",
            "Notes, ['Yes' 'No' '6']\n",
            "Listening_in_Class, ['No' 'Yes' '6']\n",
            "Project_work, ['No' 'Yes']\n",
            "Grade, ['AA' 'BA' 'CC' 'Fail' 'BB' 'CB' 'DD' 'DC']\n"
          ]
        }
      ]
    },
    {
      "cell_type": "code",
      "source": [
        "# conferindo a distribuiçãp de colunas numéricas\n",
        "fig, axes = plt.subplots(2,2)\n",
        "for i, column in enumerate(df.select_dtypes(include='number').columns):\n",
        "    if i <= 1:\n",
        "        axes[0][i].boxplot(df[column])\n",
        "        axes[0][i].set_title(f'{column} boxplot')\n",
        "        axes[1][i].hist(df[column])\n",
        "        axes[1][i].set_title(f'{column} histogram')\n",
        "\n",
        "\n",
        "plt.show()"
      ],
      "metadata": {
        "colab": {
          "base_uri": "https://localhost:8080/",
          "height": 452
        },
        "id": "HUvNcgWnVHzt",
        "outputId": "6da38c3c-87d1-4f6a-f9a9-b39d26a49254"
      },
      "execution_count": 296,
      "outputs": [
        {
          "output_type": "display_data",
          "data": {
            "text/plain": [
              "<Figure size 640x480 with 4 Axes>"
            ],
            "image/png": "[encoded data removed]"
          },
          "metadata": {}
        }
      ]
    },
    {
      "cell_type": "markdown",
      "source": [
        "Com os histogramas e bloxplots acima, verificamos que os nossos dados estão condizentes e não demonstra ter nenhum problema com as categorias analisadas e corroboram a análise estatística feita sobre as colunas númericas."
      ],
      "metadata": {
        "id": "Cb3-QR6WVt0e"
      }
    },
    {
      "cell_type": "code",
      "source": [
        "# analisando os valores categóricos que apresentaram valores estranhos (Notes, Attendance e Listening_in_Class)\n",
        "print(df[df['Notes'] ==  '6'].shape) #duas colunas com dados estranhos\n",
        "print(df[df['Attendance'] == '3'].shape) #uma coluna com dados estranhos\n",
        "print(df[df['Listening_in_Class'] == '6'].shape) #duas colunas com dados estranhos"
      ],
      "metadata": {
        "colab": {
          "base_uri": "https://localhost:8080/"
        },
        "id": "igFV7w8kWTVO",
        "outputId": "d7853103-cc94-4e50-c82c-46b8c27bbe41"
      },
      "execution_count": 297,
      "outputs": [
        {
          "output_type": "stream",
          "name": "stdout",
          "text": [
            "(2, 14)\n",
            "(1, 14)\n",
            "(1, 14)\n"
          ]
        }
      ]
    },
    {
      "cell_type": "code",
      "source": [
        "# analisando com histograma os resultados das colunas acima\n",
        "fig, axs = plt.subplots(1,3)\n",
        "axs[0].hist(df['Notes'])\n",
        "axs[0].set_title('Notes distribution')\n",
        "\n",
        "axs[1].hist(df['Attendance'])\n",
        "axs[1].set_title('Attendance distribution')\n",
        "\n",
        "axs[2].hist(df['Listening_in_Class'])\n",
        "axs[2].set_title('Listening_in_Class distribution')\n",
        "\n",
        "plt.show()"
      ],
      "metadata": {
        "colab": {
          "base_uri": "https://localhost:8080/",
          "height": 452
        },
        "id": "5-9zHaezXWaD",
        "outputId": "9274439e-f18f-4a0c-b55f-050ecd1e0080"
      },
      "execution_count": 298,
      "outputs": [
        {
          "output_type": "display_data",
          "data": {
            "text/plain": [
              "<Figure size 640x480 with 3 Axes>"
            ],
            "image/png": "[encoded data removed]"
          },
          "metadata": {}
        }
      ]
    },
    {
      "cell_type": "markdown",
      "source": [
        "Considerando que para a coluna \"Attendance distribution\", a maioria das informações são \"always\", iremos alterar a única ocorrência em \"3\" para \"always\".\n",
        "Para as outras duas colunas, como a distribuição são parecidas, iremos excluir a coluna que apresenta problema."
      ],
      "metadata": {
        "id": "lXVuSWvAXhsB"
      }
    },
    {
      "cell_type": "code",
      "source": [
        "# removendo colunas com valores estranhos em 'notes' and 'Listening_in_Class'\n",
        "df = df[df['Notes'] != '6']\n",
        "df = df[df['Listening_in_Class'] != '6']\n",
        "\n",
        "# alterando o valor de '3' para 'always', categoria mais frequente no dataset\n",
        "df['Attendance'] = df['Attendance'].replace('3', 'Always')"
      ],
      "metadata": {
        "id": "q5Awv5YTX53_"
      },
      "execution_count": 299,
      "outputs": []
    },
    {
      "cell_type": "code",
      "source": [
        "# verificando valores categóricos para colunas de tipo de objeto após as alterações propostas\n",
        "for column in df.select_dtypes(include='object').columns:\n",
        "    print(f\"{column}, {df[column].unique()}\")"
      ],
      "metadata": {
        "colab": {
          "base_uri": "https://localhost:8080/"
        },
        "id": "B9lICI-jYV6R",
        "outputId": "cd1d4ab3-c21f-4d58-f969-1b106cec8fb1"
      },
      "execution_count": 300,
      "outputs": [
        {
          "output_type": "stream",
          "name": "stdout",
          "text": [
            "Sex, ['Male' 'Female']\n",
            "High_School_Type, ['Other' 'State' 'Private']\n",
            "Scholarship, ['50%' '75%' '100%' '25%' 'None']\n",
            "Additional_Work, ['Yes' 'No']\n",
            "Sports_activity, ['No' 'Yes']\n",
            "Transportation, ['Private' 'Bus']\n",
            "Attendance, ['Always' 'Never' 'Sometimes']\n",
            "Reading, ['Yes' 'No']\n",
            "Notes, ['Yes' 'No']\n",
            "Listening_in_Class, ['No' 'Yes']\n",
            "Project_work, ['No' 'Yes']\n",
            "Grade, ['AA' 'BA' 'CC' 'Fail' 'BB' 'CB' 'DD' 'DC']\n"
          ]
        }
      ]
    },
    {
      "cell_type": "code",
      "source": [
        "# analisando as ocorrências de Attendance\n",
        "df['Attendance'].value_counts()\n"
      ],
      "metadata": {
        "colab": {
          "base_uri": "https://localhost:8080/"
        },
        "id": "YSi2aFYSYx7C",
        "outputId": "739b641d-2e67-40df-f068-5795f4c760ed"
      },
      "execution_count": 301,
      "outputs": [
        {
          "output_type": "execute_result",
          "data": {
            "text/plain": [
              "Always       99\n",
              "Sometimes    22\n",
              "Never        21\n",
              "Name: Attendance, dtype: int64"
            ]
          },
          "metadata": {},
          "execution_count": 301
        }
      ]
    },
    {
      "cell_type": "code",
      "source": [
        "# analisando as ocorrências de Grade\n",
        "df['Grade'].value_counts()"
      ],
      "metadata": {
        "colab": {
          "base_uri": "https://localhost:8080/"
        },
        "id": "TPttyRvLY6xg",
        "outputId": "344e523e-05b8-4138-d941-99f1e114ad40"
      },
      "execution_count": 302,
      "outputs": [
        {
          "output_type": "execute_result",
          "data": {
            "text/plain": [
              "AA      35\n",
              "BA      23\n",
              "BB      20\n",
              "CC      17\n",
              "DD      16\n",
              "DC      13\n",
              "CB      10\n",
              "Fail     8\n",
              "Name: Grade, dtype: int64"
            ]
          },
          "metadata": {},
          "execution_count": 302
        }
      ]
    },
    {
      "cell_type": "markdown",
      "source": [
        "Para melhor visualização de análise dos dados, iremos transformar as colunas de Attendance e Grades para valores numéricos."
      ],
      "metadata": {
        "id": "xs8XSnBxZLgK"
      }
    },
    {
      "cell_type": "code",
      "source": [
        "# alterando as colunas desejadas para valores numéricos\n",
        "print(df['Grade'].unique())\n",
        "grades_map = {'AA': 1, 'BA': 0.875, 'BB': 0.750, 'CB': 0.625, 'CC': 0.500, 'DC': 0.375, 'DD': 0.25, 'Fail': 0.0}\n",
        "attendance_map = {'Always': 1, 'Sometimes': 0.5, 'Never': 0}\n",
        "\n",
        "df['Grade'] = df['Grade'].map(lambda x: grades_map[x])\n",
        "df['Attendance'] = df['Attendance'].map(lambda x: attendance_map[x])"
      ],
      "metadata": {
        "colab": {
          "base_uri": "https://localhost:8080/"
        },
        "id": "x2kemd-aZXep",
        "outputId": "453ae803-6b87-4afd-acb8-01c4e0b1faa6"
      },
      "execution_count": 303,
      "outputs": [
        {
          "output_type": "stream",
          "name": "stdout",
          "text": [
            "['AA' 'BA' 'CC' 'Fail' 'BB' 'CB' 'DD' 'DC']\n"
          ]
        }
      ]
    },
    {
      "cell_type": "markdown",
      "source": [
        "Para melhor visualização de análise dos dados, iremos transformar as colunas de Yes/No para colunas de 1/0 (Notes e Sports_activity).\n"
      ],
      "metadata": {
        "id": "pWAyZVJcZlWe"
      }
    },
    {
      "cell_type": "code",
      "source": [
        "# alterando valores de Yes/No para 1/0\n",
        "yes_no = df['Notes'].unique()\n",
        "no_yes = df['Sports_activity'].unique()\n",
        "yes_no_map = {'Yes': 1, 'No': 0}\n",
        "\n",
        "for column in df.select_dtypes(include='object'):\n",
        "    if (df[column].unique().all() == yes_no.all()) or (df[column].unique().all() == no_yes.all()):\n",
        "        df[column] = [yes_no_map[value] for value in df[column]]"
      ],
      "metadata": {
        "id": "E0o9vgepZxuw"
      },
      "execution_count": 304,
      "outputs": []
    },
    {
      "cell_type": "markdown",
      "source": [
        "Para melhor visualização de análise dos dados, iremos transformar as colunas de Scholarship em uma coluna númerica."
      ],
      "metadata": {
        "id": "6tsPgVxWaDAR"
      }
    },
    {
      "cell_type": "code",
      "source": [
        "# analisando as ocorrências de Scholarship\n",
        "df['Scholarship'].value_counts()"
      ],
      "metadata": {
        "colab": {
          "base_uri": "https://localhost:8080/"
        },
        "id": "H1BgsppNcY3f",
        "outputId": "16feeb81-2bd9-4e20-8881-aae5d551bec9"
      },
      "execution_count": 305,
      "outputs": [
        {
          "output_type": "execute_result",
          "data": {
            "text/plain": [
              "50%     75\n",
              "75%     41\n",
              "100%    23\n",
              "25%      2\n",
              "None     1\n",
              "Name: Scholarship, dtype: int64"
            ]
          },
          "metadata": {},
          "execution_count": 305
        }
      ]
    },
    {
      "cell_type": "markdown",
      "source": [
        "Considerando que há apenas uma ocorrência em Nome, iremos excluir essa coluna."
      ],
      "metadata": {
        "id": "-lqiMBp_cf6s"
      }
    },
    {
      "cell_type": "code",
      "source": [
        "# excluir a coluna que contém None\n",
        "df = df[df['Scholarship'] != 'None']"
      ],
      "metadata": {
        "id": "iCrcJJgUcnbt"
      },
      "execution_count": 306,
      "outputs": []
    },
    {
      "cell_type": "code",
      "source": [
        "# alterando as colunas de Scholarship para uma coluna numérica\n",
        "scholarship_map = {'100%': 1.00, '75%': 0.75, '50%': 0.50, '25%': 0.25, '0%': 0}\n",
        "\n",
        "df['Scholarship'] = df['Scholarship'].fillna('0%')\n",
        "df['Scholarship'] = [scholarship_map[value] for value in df['Scholarship']]"
      ],
      "metadata": {
        "id": "ALn8RTtpaISc"
      },
      "execution_count": 307,
      "outputs": []
    },
    {
      "cell_type": "markdown",
      "source": [
        "Como último ajuste visando a otimização da análise dos dados, iremos substituir o gênero (Male/Female) para 1/0."
      ],
      "metadata": {
        "id": "x8PGY6XZc8Ye"
      }
    },
    {
      "cell_type": "code",
      "source": [
        "# alterando o Gênero(M/F) para 1/0\n",
        "sex_map = {'Male': 1, 'Female': 0}\n",
        "df['Sex'] = [sex_map[value] for value in df['Sex']]"
      ],
      "metadata": {
        "id": "sb5uLU9EdHBY"
      },
      "execution_count": 308,
      "outputs": []
    },
    {
      "cell_type": "markdown",
      "source": [
        "# **4. Análise do dataset após tratamento**\n",
        "\n",
        "Agora que fizemos uma análise das informações presentes no dataset e o tratamento que julgamentos necessários para avanço do trabalho, utilizaremos os dados extrair mais informações com análises visuais."
      ],
      "metadata": {
        "id": "9RXRvsOBdr8Y"
      }
    },
    {
      "cell_type": "markdown",
      "source": [
        "Primeiro, faremos um mapa de calor do nosso dataset para identificar correlações."
      ],
      "metadata": {
        "id": "z7FwhI3sdvrC"
      }
    },
    {
      "cell_type": "code",
      "source": [
        "# mapa de calor (correlação) entre as categorias\n",
        "numerical_columns = df.select_dtypes(include='number').columns\n",
        "corr = df[numerical_columns].corr()\n",
        "plt.figure(figsize=(10, 6))\n",
        "sns.heatmap(corr, annot=True, cmap=\"crest\")"
      ],
      "metadata": {
        "colab": {
          "base_uri": "https://localhost:8080/",
          "height": 676
        },
        "id": "Imor3eCPe-MK",
        "outputId": "ddff9550-e414-47a8-9a3e-293ce6432e38"
      },
      "execution_count": 309,
      "outputs": [
        {
          "output_type": "execute_result",
          "data": {
            "text/plain": [
              "<Axes: >"
            ]
          },
          "metadata": {},
          "execution_count": 309
        },
        {
          "output_type": "display_data",
          "data": {
            "text/plain": [
              "<Figure size 1000x600 with 2 Axes>"
            ],
            "image/png": "[encoded data removed]"
          },
          "metadata": {}
        }
      ]
    },
    {
      "cell_type": "markdown",
      "source": [
        "Podemos verificar que as categorias possuem baixa correlação entre si.\n",
        "Vemos que as notas possuem correlação positiva com a idade e a leitura do estudante, indicando que quanto mais velho ou quanto mais o aluno leia, melhor a nota.\n",
        "Verificamos também que, as notas possuem correlação negativa com atividades esportivas, com tendência de que os alunos envolvidos com esportes possuem notas menores.\n",
        "Um ponto curioso é que a frequência as aulas e horas de estudos semanais possuem baixissima correlação com as notas.\n"
      ],
      "metadata": {
        "id": "wN5zr2uYfZY2"
      }
    },
    {
      "cell_type": "markdown",
      "source": [
        "Vamos analisar a amostra pelo tipo de escola (Estado, Privada, Outra)"
      ],
      "metadata": {
        "id": "fYCo90nhgwGu"
      }
    },
    {
      "cell_type": "code",
      "source": [
        "# análise da amostra pelo tipo de escola\n",
        "df['High_School_Type'].value_counts()\n"
      ],
      "metadata": {
        "colab": {
          "base_uri": "https://localhost:8080/"
        },
        "id": "jiDY-uyNjgq3",
        "outputId": "e8c2c395-abc0-4cfd-b1ab-b441de43e660"
      },
      "execution_count": 310,
      "outputs": [
        {
          "output_type": "execute_result",
          "data": {
            "text/plain": [
              "State      101\n",
              "Private     23\n",
              "Other       17\n",
              "Name: High_School_Type, dtype: int64"
            ]
          },
          "metadata": {},
          "execution_count": 310
        }
      ]
    },
    {
      "cell_type": "code",
      "source": [
        "# boxplot dos tipos de escola\n",
        "sns.boxplot(data=df, x=\"High_School_Type\", y=\"Grade\")"
      ],
      "metadata": {
        "colab": {
          "base_uri": "https://localhost:8080/",
          "height": 467
        },
        "id": "GaK1Sl4uk1ta",
        "outputId": "e686b6ea-0adc-49f6-d695-d3c351f3cc4b"
      },
      "execution_count": 311,
      "outputs": [
        {
          "output_type": "execute_result",
          "data": {
            "text/plain": [
              "<Axes: xlabel='High_School_Type', ylabel='Grade'>"
            ]
          },
          "metadata": {},
          "execution_count": 311
        },
        {
          "output_type": "display_data",
          "data": {
            "text/plain": [
              "<Figure size 640x480 with 1 Axes>"
            ],
            "image/png": "[encoded data removed]"
          },
          "metadata": {}
        }
      ]
    },
    {
      "cell_type": "code",
      "source": [
        "# contagem da frequência de notas por tipo de escola\n",
        "df.groupby('High_School_Type')['Grade'].value_counts()"
      ],
      "metadata": {
        "colab": {
          "base_uri": "https://localhost:8080/"
        },
        "id": "QAMNPovskY13",
        "outputId": "ee8d6b11-fbf6-4d47-8750-c625915606a4"
      },
      "execution_count": 312,
      "outputs": [
        {
          "output_type": "execute_result",
          "data": {
            "text/plain": [
              "High_School_Type  Grade\n",
              "Other             1.000     6\n",
              "                  0.500     4\n",
              "                  0.250     2\n",
              "                  0.875     2\n",
              "                  0.375     1\n",
              "                  0.625     1\n",
              "                  0.750     1\n",
              "Private           1.000     8\n",
              "                  0.875     5\n",
              "                  0.750     3\n",
              "                  0.000     2\n",
              "                  0.250     2\n",
              "                  0.625     2\n",
              "                  0.375     1\n",
              "State             1.000    21\n",
              "                  0.750    16\n",
              "                  0.875    16\n",
              "                  0.500    13\n",
              "                  0.250    12\n",
              "                  0.375    11\n",
              "                  0.000     6\n",
              "                  0.625     6\n",
              "Name: Grade, dtype: int64"
            ]
          },
          "metadata": {},
          "execution_count": 312
        }
      ]
    },
    {
      "cell_type": "code",
      "source": [
        "# média das notas por tipo de escola\n",
        "df.groupby('High_School_Type')['Grade'].mean()"
      ],
      "metadata": {
        "colab": {
          "base_uri": "https://localhost:8080/"
        },
        "id": "srGZFvuvkeB-",
        "outputId": "bfe418f2-e69c-4177-aa02-cdb2cfbfe18b"
      },
      "execution_count": 313,
      "outputs": [
        {
          "output_type": "execute_result",
          "data": {
            "text/plain": [
              "High_School_Type\n",
              "Other      0.705882\n",
              "Private    0.728261\n",
              "State      0.637376\n",
              "Name: Grade, dtype: float64"
            ]
          },
          "metadata": {},
          "execution_count": 313
        }
      ]
    },
    {
      "cell_type": "markdown",
      "source": [
        "Podemos auferir que as escolas do Estado são as que possuem as menores notas, em média."
      ],
      "metadata": {
        "id": "J-eHD5YxlZan"
      }
    },
    {
      "cell_type": "markdown",
      "source": [
        "Faremos agora uma análise utilizando como base na idades dos alunos."
      ],
      "metadata": {
        "id": "XvVpSJ92l1Yq"
      }
    },
    {
      "cell_type": "code",
      "source": [
        "# histograma por idade\n",
        "df['Student_Age'].hist()\n",
        "plt.title('Histograma por Idade')\n",
        "plt.show()"
      ],
      "metadata": {
        "colab": {
          "base_uri": "https://localhost:8080/",
          "height": 452
        },
        "id": "Ueucfcn_mrZP",
        "outputId": "9f658246-e0dc-44bf-d955-6222a1e29e01"
      },
      "execution_count": 314,
      "outputs": [
        {
          "output_type": "display_data",
          "data": {
            "text/plain": [
              "<Figure size 640x480 with 1 Axes>"
            ],
            "image/png": "[encoded data removed]"
          },
          "metadata": {}
        }
      ]
    },
    {
      "cell_type": "code",
      "source": [
        "# análise das notas por idade dos alunos\n",
        "age_grades = df.groupby('Student_Age')['Grade'].mean()\n",
        "plt.bar(age_grades.index,age_grades.values)\n",
        "plt.title('Distribuição das notas por idade')\n",
        "plt.show()"
      ],
      "metadata": {
        "colab": {
          "base_uri": "https://localhost:8080/",
          "height": 452
        },
        "id": "iAuPBBHPnBha",
        "outputId": "ea5f4c0a-6b02-4085-90f7-351fb038b4fe"
      },
      "execution_count": 315,
      "outputs": [
        {
          "output_type": "display_data",
          "data": {
            "text/plain": [
              "<Figure size 640x480 with 1 Axes>"
            ],
            "image/png": "[encoded data removed]"
          },
          "metadata": {}
        }
      ]
    },
    {
      "cell_type": "code",
      "source": [
        "# horas de estudos semanais por idade dos alunos\n",
        "age_study_hours = df.groupby('Student_Age')['Weekly_Study_Hours'].mean()\n",
        "plt.bar(age_study_hours.index,age_study_hours.values)\n",
        "plt.title('Horas de estudos semanais por idade dos alunos')\n",
        "plt.show()"
      ],
      "metadata": {
        "colab": {
          "base_uri": "https://localhost:8080/",
          "height": 452
        },
        "id": "FPEV2i47nKbm",
        "outputId": "c3abc689-000e-4730-aa6a-bbc1854b0c2d"
      },
      "execution_count": 316,
      "outputs": [
        {
          "output_type": "display_data",
          "data": {
            "text/plain": [
              "<Figure size 640x480 with 1 Axes>"
            ],
            "image/png": "[encoded data removed]"
          },
          "metadata": {}
        }
      ]
    },
    {
      "cell_type": "code",
      "source": [
        "# frequência das aulas por idade dos alunos\n",
        "age_attendence = df.groupby('Student_Age')['Attendance'].mean()\n",
        "plt.bar(age_attendence.index,age_attendence.values)\n",
        "plt.title('Frequência das aulas por idade dos alunos')\n",
        "plt.show()"
      ],
      "metadata": {
        "colab": {
          "base_uri": "https://localhost:8080/",
          "height": 453
        },
        "id": "2UDEdsYinkMl",
        "outputId": "61f9621e-2ab4-4fba-91f9-2326e14ebd3c"
      },
      "execution_count": 317,
      "outputs": [
        {
          "output_type": "display_data",
          "data": {
            "text/plain": [
              "<Figure size 640x480 with 1 Axes>"
            ],
            "image/png": "[encoded data removed]"
          },
          "metadata": {}
        }
      ]
    },
    {
      "cell_type": "markdown",
      "source": [
        "Pelos resultados apresentados, podemos auferir que idade é um bom preditor de boas notas."
      ],
      "metadata": {
        "id": "jE_Jaj8knuZl"
      }
    },
    {
      "cell_type": "markdown",
      "source": [
        "A última análise que faremos será com relação ao gênero dos alunos."
      ],
      "metadata": {
        "id": "OMxYng0vn_5s"
      }
    },
    {
      "cell_type": "code",
      "source": [
        "# distribuição dos alunos por gênero\n",
        "df['Sex'].hist() #1 masculino; 0 feminino\n",
        "plt.title(\"Distribuição por gênero\")\n",
        "plt.show()"
      ],
      "metadata": {
        "colab": {
          "base_uri": "https://localhost:8080/",
          "height": 453
        },
        "id": "9Swy88Vyn3g0",
        "outputId": "91dd4d8c-b016-47bb-ab41-b9d64ab7f019"
      },
      "execution_count": 318,
      "outputs": [
        {
          "output_type": "display_data",
          "data": {
            "text/plain": [
              "<Figure size 640x480 with 1 Axes>"
            ],
            "image/png": "[encoded data removed]"
          },
          "metadata": {}
        }
      ]
    },
    {
      "cell_type": "code",
      "source": [
        "# nota média por gênero (1=masculino e 0=feminino)\n",
        "df.groupby('Sex')['Grade'].mean()"
      ],
      "metadata": {
        "colab": {
          "base_uri": "https://localhost:8080/"
        },
        "id": "fk_Jvuc-oLIG",
        "outputId": "cf9212c7-b43f-4c80-cb94-d04804ece87b"
      },
      "execution_count": 319,
      "outputs": [
        {
          "output_type": "execute_result",
          "data": {
            "text/plain": [
              "Sex\n",
              "0    0.674107\n",
              "1    0.651471\n",
              "Name: Grade, dtype: float64"
            ]
          },
          "metadata": {},
          "execution_count": 319
        }
      ]
    },
    {
      "cell_type": "code",
      "source": [
        "# boxplot do gênero por notas\n",
        "sns.boxplot(data=df, x='Sex',y='Grade')\n",
        "plt.show()"
      ],
      "metadata": {
        "colab": {
          "base_uri": "https://localhost:8080/",
          "height": 449
        },
        "id": "72sjilXzolz8",
        "outputId": "e377820b-dafe-416a-e062-2732095eee06"
      },
      "execution_count": 320,
      "outputs": [
        {
          "output_type": "display_data",
          "data": {
            "text/plain": [
              "<Figure size 640x480 with 1 Axes>"
            ],
            "image/png": "[encoded data removed]"
          },
          "metadata": {}
        }
      ]
    },
    {
      "cell_type": "markdown",
      "source": [
        "Temos uma maior presença do gênero masculino.\n",
        "Apesar da diferença ser pequena, as mulheres apresentam notas melhores, em média."
      ],
      "metadata": {
        "id": "fKreSEI2o95k"
      }
    },
    {
      "cell_type": "markdown",
      "source": [
        "# **5. Conclusão**\n",
        "\n",
        "O dataset utilizado para construção do trabalho era simples, com poucas linhas e não possuia informações faltando.\n",
        "\n",
        "Ao analisar as informações presentes no dataset, verificou-se que possuiam linhas com informações estranhas, diferentes das demais da categoria. Dado que as informçações são categóricas e com uma frequência pequena de ocorrência dos valores discrepantes, as linhas foram excluídas.\n",
        "\n",
        "Após o tratamento proposto, os dados foram analisados e os resultados podem ser resumidos em:\n",
        "\n",
        "\n",
        "1.   As categorias possuiam baixa correlação entre si.\n",
        "2.   Verificamos que há uma correlação positiva entre idade do aluno e as notas. Há uma tendência de que, quanto mais velho, maior a nota. Pode-se entender como um maior grau de amadurecimento do aluno.\n",
        "3.   Constatamos que há uma correlação negativa das atividades esportivas com as notas. Uma tendência de que alunos envolvidos com esportes possuem notas menores.\n",
        "4.   Um ponto curioso e que mereceria uma análise mais aprofundada com outras situações para entender a relação de causualidade é devido ao fato de que a frequência das aulas e a quantidade de horas de estudos semanais possuem baixíssima correlação com as notas.\n",
        "5.   Observamos que as escolas do Estado são as que possuem as menores notas, em média.\n",
        "6.   A amostra possui uma maio frequência de alunos do gênero masculino. Em contrapartida, as notas, em média, são superiores para o grupo de alunos do gênero feminino.\n",
        "\n",
        "\n"
      ],
      "metadata": {
        "id": "yoBF_g1ypKDT"
      }
    }
  ]
}